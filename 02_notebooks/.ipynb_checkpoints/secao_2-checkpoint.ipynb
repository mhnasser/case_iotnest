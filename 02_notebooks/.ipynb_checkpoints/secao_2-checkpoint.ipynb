{
 "cells": [
  {
   "cell_type": "markdown",
   "id": "4be7589c-a840-4c33-aba5-1c8da7bad01c",
   "metadata": {},
   "source": [
    "## Imports"
   ]
  },
  {
   "cell_type": "code",
   "execution_count": 2,
   "id": "880517e9-d70b-4729-882d-3c774e152085",
   "metadata": {},
   "outputs": [],
   "source": [
    "import pandas as pd\n",
    "import numpy as np\n",
    "\n",
    "import torch\n",
    "import torch.nn as nn\n",
    "import torch.nn.functional as F\n",
    "from sklearn.preprocessing import StandardScaler\n",
    "from sklearn.model_selection import train_test_split\n",
    "\n",
    "import matplotlib.pyplot as plt\n",
    "import warnings\n",
    "from pathlib import Path"
   ]
  },
  {
   "cell_type": "markdown",
   "id": "0a9e1783-3598-4518-9d5e-19dd71f2eeb4",
   "metadata": {},
   "source": [
    "## Configs"
   ]
  },
  {
   "cell_type": "code",
   "execution_count": 4,
   "id": "7bef944a-aa0a-446e-99b9-2df11a0ff33b",
   "metadata": {},
   "outputs": [],
   "source": [
    "# Filtrando os erros\n",
    "warnings.filterwarnings('ignore')\n",
    "\n",
    "# Caminhos para o diretório dos dados\n",
    "data_path = Path('../01_dados')"
   ]
  },
  {
   "cell_type": "markdown",
   "id": "c35821c5-fbf1-4c29-9897-ccb1c752ab52",
   "metadata": {},
   "source": [
    "---\n",
    "<br>"
   ]
  },
  {
   "cell_type": "markdown",
   "id": "17c73f2f-1ce1-4543-8056-621c70f895a0",
   "metadata": {},
   "source": [
    "### 1. Construir uma Rede Neural usando pytorch "
   ]
  },
  {
   "cell_type": "code",
   "execution_count": 7,
   "id": "0c098c71-9828-426d-90ed-d60cfa05d7e5",
   "metadata": {},
   "outputs": [
    {
     "data": {
      "text/html": [
       "<div>\n",
       "<style scoped>\n",
       "    .dataframe tbody tr th:only-of-type {\n",
       "        vertical-align: middle;\n",
       "    }\n",
       "\n",
       "    .dataframe tbody tr th {\n",
       "        vertical-align: top;\n",
       "    }\n",
       "\n",
       "    .dataframe thead th {\n",
       "        text-align: right;\n",
       "    }\n",
       "</style>\n",
       "<table border=\"1\" class=\"dataframe\">\n",
       "  <thead>\n",
       "    <tr style=\"text-align: right;\">\n",
       "      <th></th>\n",
       "      <th>SepalLengthCm</th>\n",
       "      <th>SepalWidthCm</th>\n",
       "      <th>PetalLengthCm</th>\n",
       "      <th>PetalWidthCm</th>\n",
       "      <th>Species</th>\n",
       "    </tr>\n",
       "  </thead>\n",
       "  <tbody>\n",
       "    <tr>\n",
       "      <th>0</th>\n",
       "      <td>5.1</td>\n",
       "      <td>3.5</td>\n",
       "      <td>1.4</td>\n",
       "      <td>0.2</td>\n",
       "      <td>Iris-setosa</td>\n",
       "    </tr>\n",
       "    <tr>\n",
       "      <th>1</th>\n",
       "      <td>4.9</td>\n",
       "      <td>3.0</td>\n",
       "      <td>1.4</td>\n",
       "      <td>0.2</td>\n",
       "      <td>Iris-setosa</td>\n",
       "    </tr>\n",
       "    <tr>\n",
       "      <th>2</th>\n",
       "      <td>4.7</td>\n",
       "      <td>3.2</td>\n",
       "      <td>1.3</td>\n",
       "      <td>0.2</td>\n",
       "      <td>Iris-setosa</td>\n",
       "    </tr>\n",
       "    <tr>\n",
       "      <th>3</th>\n",
       "      <td>4.6</td>\n",
       "      <td>3.1</td>\n",
       "      <td>1.5</td>\n",
       "      <td>0.2</td>\n",
       "      <td>Iris-setosa</td>\n",
       "    </tr>\n",
       "    <tr>\n",
       "      <th>4</th>\n",
       "      <td>5.0</td>\n",
       "      <td>3.6</td>\n",
       "      <td>1.4</td>\n",
       "      <td>0.2</td>\n",
       "      <td>Iris-setosa</td>\n",
       "    </tr>\n",
       "  </tbody>\n",
       "</table>\n",
       "</div>"
      ],
      "text/plain": [
       "   SepalLengthCm  SepalWidthCm  PetalLengthCm  PetalWidthCm      Species\n",
       "0            5.1           3.5            1.4           0.2  Iris-setosa\n",
       "1            4.9           3.0            1.4           0.2  Iris-setosa\n",
       "2            4.7           3.2            1.3           0.2  Iris-setosa\n",
       "3            4.6           3.1            1.5           0.2  Iris-setosa\n",
       "4            5.0           3.6            1.4           0.2  Iris-setosa"
      ]
     },
     "execution_count": 7,
     "metadata": {},
     "output_type": "execute_result"
    }
   ],
   "source": [
    "df = pd.read_csv(data_path / 'iris.csv', \n",
    "                 header=None, \n",
    "                 names=['SepalLengthCm','SepalWidthCm','PetalLengthCm','PetalWidthCm','Species'])\n",
    "df.head()"
   ]
  },
  {
   "cell_type": "code",
   "execution_count": 8,
   "id": "eb5e3463-359f-4e1e-8acd-46b3d54b46a2",
   "metadata": {},
   "outputs": [
    {
     "data": {
      "text/html": [
       "<div>\n",
       "<style scoped>\n",
       "    .dataframe tbody tr th:only-of-type {\n",
       "        vertical-align: middle;\n",
       "    }\n",
       "\n",
       "    .dataframe tbody tr th {\n",
       "        vertical-align: top;\n",
       "    }\n",
       "\n",
       "    .dataframe thead th {\n",
       "        text-align: right;\n",
       "    }\n",
       "</style>\n",
       "<table border=\"1\" class=\"dataframe\">\n",
       "  <thead>\n",
       "    <tr style=\"text-align: right;\">\n",
       "      <th></th>\n",
       "      <th>SepalLengthCm</th>\n",
       "      <th>SepalWidthCm</th>\n",
       "      <th>PetalLengthCm</th>\n",
       "      <th>PetalWidthCm</th>\n",
       "      <th>Species</th>\n",
       "    </tr>\n",
       "  </thead>\n",
       "  <tbody>\n",
       "    <tr>\n",
       "      <th>0</th>\n",
       "      <td>5.1</td>\n",
       "      <td>3.5</td>\n",
       "      <td>1.4</td>\n",
       "      <td>0.2</td>\n",
       "      <td>0</td>\n",
       "    </tr>\n",
       "    <tr>\n",
       "      <th>1</th>\n",
       "      <td>4.9</td>\n",
       "      <td>3.0</td>\n",
       "      <td>1.4</td>\n",
       "      <td>0.2</td>\n",
       "      <td>0</td>\n",
       "    </tr>\n",
       "    <tr>\n",
       "      <th>2</th>\n",
       "      <td>4.7</td>\n",
       "      <td>3.2</td>\n",
       "      <td>1.3</td>\n",
       "      <td>0.2</td>\n",
       "      <td>0</td>\n",
       "    </tr>\n",
       "    <tr>\n",
       "      <th>3</th>\n",
       "      <td>4.6</td>\n",
       "      <td>3.1</td>\n",
       "      <td>1.5</td>\n",
       "      <td>0.2</td>\n",
       "      <td>0</td>\n",
       "    </tr>\n",
       "    <tr>\n",
       "      <th>4</th>\n",
       "      <td>5.0</td>\n",
       "      <td>3.6</td>\n",
       "      <td>1.4</td>\n",
       "      <td>0.2</td>\n",
       "      <td>0</td>\n",
       "    </tr>\n",
       "  </tbody>\n",
       "</table>\n",
       "</div>"
      ],
      "text/plain": [
       "   SepalLengthCm  SepalWidthCm  PetalLengthCm  PetalWidthCm  Species\n",
       "0            5.1           3.5            1.4           0.2        0\n",
       "1            4.9           3.0            1.4           0.2        0\n",
       "2            4.7           3.2            1.3           0.2        0\n",
       "3            4.6           3.1            1.5           0.2        0\n",
       "4            5.0           3.6            1.4           0.2        0"
      ]
     },
     "execution_count": 8,
     "metadata": {},
     "output_type": "execute_result"
    }
   ],
   "source": [
    "# Transformando a coluna target em valores numéricos\n",
    "df['Species'] = df['Species'].map({'Iris-setosa':0,'Iris-versicolor':1,'Iris-virginica':2})\n",
    "df.head()"
   ]
  },
  {
   "cell_type": "code",
   "execution_count": 9,
   "id": "5bcd365c-7bac-4a80-bf6a-7f615a785b45",
   "metadata": {},
   "outputs": [],
   "source": [
    "# Separando variáveis preditoras da variável target\n",
    "X = df.drop([\"Species\"],axis=1).values\n",
    "y = df[\"Species\"].values"
   ]
  },
  {
   "cell_type": "code",
   "execution_count": 10,
   "id": "b569e62c-91fd-4820-b710-b24a46e4ef41",
   "metadata": {},
   "outputs": [],
   "source": [
    "scaler = StandardScaler()"
   ]
  },
  {
   "cell_type": "code",
   "execution_count": 11,
   "id": "9b2aea35-2bbd-4fc4-a8c1-a185a7b48290",
   "metadata": {},
   "outputs": [],
   "source": [
    "# Dividindo em dados de treinos e dados de test\n",
    "X_train, X_test, y_train, y_test = train_test_split(X, y, test_size=0.33, random_state=42)"
   ]
  },
  {
   "cell_type": "code",
   "execution_count": 12,
   "id": "42d72200-b39e-4259-89ac-16c71cfb0c4a",
   "metadata": {},
   "outputs": [],
   "source": [
    "# Normalizando os dados para que se adeque melhor ao formato esperado pelo treinamento\n",
    "X_train = scaler.fit_transform(X_train)\n",
    "X_test = scaler.transform(X_test)"
   ]
  },
  {
   "cell_type": "code",
   "execution_count": 13,
   "id": "1da091bc-b158-404b-ad79-d2bc58c5eea8",
   "metadata": {},
   "outputs": [],
   "source": [
    "# Convertendo de Numpay array para tensor torch\n",
    "X_train = torch.FloatTensor(X_train)\n",
    "X_test = torch.FloatTensor(X_test)\n",
    "y_train = torch.LongTensor(y_train)\n",
    "y_test = torch.LongTensor(y_test)"
   ]
  },
  {
   "cell_type": "markdown",
   "id": "faa619fa-359b-4ab2-ac8e-87a884bcf812",
   "metadata": {},
   "source": [
    "Classe para criar o modelo de redes neurais<br>\n",
    "\n",
    "- Camada de entrada: Recebe os dados de entrada e os transforma com uma camada linear `(nn.Linear(input_dim, 128))`, que mapeia a entrada para um espaço de 128 dimensões.\n",
    "- Primeira camada oculta: Aplica uma transformação linear `(nn.Linear(128, 64))` seguida de uma ativação ReLU, mapeando os dados para um espaço de 64 dimensões.\n",
    "- Segunda camada oculta: Aplica uma transformação linear `(nn.Linear(64, 32))` seguida de ReLU, reduzindo os dados para 32 dimensões.\n",
    "- Camada de saída: Aplica uma transformação linear `(nn.Linear(32, output_dim))` que gera a previsão da rede, com a saída mapeada para a dimensão do número de classes.\n",
    "- Função softmax: Após a camada de saída, aplica-se softmax para converter as saídas em probabilidades, permitindo uma classificação entre as diferentes classes."
   ]
  },
  {
   "cell_type": "code",
   "execution_count": 15,
   "id": "27f1c771-945f-43da-8565-3c7e8f8e25bd",
   "metadata": {},
   "outputs": [],
   "source": [
    "class NeuralNetworkClassificationModel(nn.Module):\n",
    "    def __init__(self, input_dim, output_dim):\n",
    "        super(NeuralNetworkClassificationModel, self).__init__()\n",
    "        self.input_layer = nn.Linear(input_dim, 128)\n",
    "        self.hidden_layer1 = nn.Linear(128, 64)\n",
    "        self.hidden_layer2 = nn.Linear(64, 32)\n",
    "        self.output_layer = nn.Linear(32, output_dim)\n",
    "\n",
    "        # Adicionando Dropout com probabilidade de 0.2\n",
    "        self.dropout = nn.Dropout(p=0.3)\n",
    "\n",
    "    def forward(self, x):\n",
    "        x = F.relu(self.input_layer(x))  # Ativação ReLU na camada de entrada\n",
    "        x = self.dropout(x)  # Dropout após a camada de entrada\n",
    "\n",
    "        x = F.relu(self.hidden_layer1(x))  # Ativação ReLU na primeira camada oculta\n",
    "        x = self.dropout(x)  # Dropout após a primeira camada oculta\n",
    "\n",
    "        x = F.relu(self.hidden_layer2(x))  # Ativação ReLU na segunda camada oculta\n",
    "        x = self.dropout(x)  # Dropout após a segunda camada oculta\n",
    "\n",
    "        x = F.softmax(self.output_layer(x), dim=1)  # Softmax na camada de saída\n",
    "        return x"
   ]
  },
  {
   "cell_type": "code",
   "execution_count": 16,
   "id": "07fa349f-965b-4ec4-9503-554ac76a34df",
   "metadata": {},
   "outputs": [],
   "source": [
    "# input_dim = 4 porque temos 4 entradas, nomeadamente sepal_length,sepal_width,petal_length,petal_width\n",
    "# output_dim = 3 porque temos 3 categorias setosa,versicolor e virginica\n",
    "input_dim  = 4 \n",
    "output_dim = 3\n",
    "model = NeuralNetworkClassificationModel(input_dim,output_dim)"
   ]
  },
  {
   "cell_type": "code",
   "execution_count": 17,
   "id": "7c4f8708-df59-4ab9-ae84-c47e14aae467",
   "metadata": {},
   "outputs": [],
   "source": [
    "# criando nosso otimizador e função de perda\n",
    "criterion = nn.CrossEntropyLoss()\n",
    "optimizer = torch.optim.Adam(model.parameters(),lr=1e-3, weight_decay=1e-4)"
   ]
  },
  {
   "cell_type": "code",
   "execution_count": 18,
   "id": "d1fed9cc-d927-458a-8e29-38bcc5e11e12",
   "metadata": {},
   "outputs": [],
   "source": [
    "def train_network(model, optimizer, criterion, X_train, y_train, X_test, y_test, num_epochs, train_losses, test_losses):\n",
    "    for epoch in range(num_epochs):\n",
    "        # Limpar os gradientes da última etapa\n",
    "        optimizer.zero_grad()\n",
    "\n",
    "        # Feedforward\n",
    "        output_train = model(X_train)\n",
    "\n",
    "        # Calcular a perda\n",
    "        loss_train = criterion(output_train, y_train)\n",
    "\n",
    "        # Propagação reversa: calcular os gradientes\n",
    "        loss_train.backward()\n",
    "\n",
    "        # Atualizar os pesos\n",
    "        optimizer.step()\n",
    "\n",
    "        # Avaliar no conjunto de teste\n",
    "        output_test = model(X_test)\n",
    "        loss_test = criterion(output_test, y_test)\n",
    "\n",
    "        # Armazenar as perdas\n",
    "        train_losses[epoch] = loss_train.item()\n",
    "        test_losses[epoch] = loss_test.item()\n",
    "\n",
    "        # Exibir resultados a cada 50 épocas\n",
    "        if (epoch + 1) % 50 == 0:\n",
    "            print(f\"Epoch {epoch+1}/{num_epochs}, Train Loss: {loss_train.item():.4f}, Test Loss: {loss_test.item():.4f}\")"
   ]
  },
  {
   "cell_type": "code",
   "execution_count": 19,
   "id": "d82d5410-2511-4791-a6c6-03cd4abb5f44",
   "metadata": {},
   "outputs": [],
   "source": [
    "num_epochs = 1000\n",
    "train_losses = np.zeros(num_epochs)\n",
    "test_losses  = np.zeros(num_epochs)"
   ]
  },
  {
   "cell_type": "code",
   "execution_count": 20,
   "id": "b260edbf-e25c-4432-a4e8-3a54ef4a10a7",
   "metadata": {},
   "outputs": [
    {
     "name": "stdout",
     "output_type": "stream",
     "text": [
      "Epoch 50/1000, Train Loss: 0.7216, Test Loss: 0.7336\n",
      "Epoch 100/1000, Train Loss: 0.6182, Test Loss: 0.6270\n",
      "Epoch 150/1000, Train Loss: 0.5881, Test Loss: 0.5840\n",
      "Epoch 200/1000, Train Loss: 0.6008, Test Loss: 0.5740\n",
      "Epoch 250/1000, Train Loss: 0.5686, Test Loss: 0.5916\n",
      "Epoch 300/1000, Train Loss: 0.5919, Test Loss: 0.5847\n",
      "Epoch 350/1000, Train Loss: 0.5658, Test Loss: 0.5925\n",
      "Epoch 400/1000, Train Loss: 0.5824, Test Loss: 0.5833\n",
      "Epoch 450/1000, Train Loss: 0.5657, Test Loss: 0.5642\n",
      "Epoch 500/1000, Train Loss: 0.5825, Test Loss: 0.5546\n",
      "Epoch 550/1000, Train Loss: 0.5734, Test Loss: 0.5892\n",
      "Epoch 600/1000, Train Loss: 0.5669, Test Loss: 0.5605\n",
      "Epoch 650/1000, Train Loss: 0.5735, Test Loss: 0.5733\n",
      "Epoch 700/1000, Train Loss: 0.5854, Test Loss: 0.5785\n",
      "Epoch 750/1000, Train Loss: 0.5634, Test Loss: 0.5722\n",
      "Epoch 800/1000, Train Loss: 0.5712, Test Loss: 0.5669\n",
      "Epoch 850/1000, Train Loss: 0.5618, Test Loss: 0.5733\n",
      "Epoch 900/1000, Train Loss: 0.5619, Test Loss: 0.5724\n",
      "Epoch 950/1000, Train Loss: 0.5627, Test Loss: 0.5662\n",
      "Epoch 1000/1000, Train Loss: 0.5708, Test Loss: 0.5727\n"
     ]
    }
   ],
   "source": [
    "# Treinando o modelo\n",
    "train_network(model,optimizer,criterion,X_train,y_train,X_test,y_test,num_epochs,train_losses,test_losses)"
   ]
  },
  {
   "cell_type": "markdown",
   "id": "75b6c2c0-c328-47d6-9f1e-4f66b9bb6aec",
   "metadata": {},
   "source": [
    "Avaliando a evolução da perda com o avanço de cada iteração"
   ]
  },
  {
   "cell_type": "code",
   "execution_count": 22,
   "id": "9e572fea-f34e-4943-bb9f-c276ea550e90",
   "metadata": {},
   "outputs": [
    {
     "data": {
      "image/png": "[encoded data removed]",
      "text/plain": [
       "<Figure size 1000x1000 with 1 Axes>"
      ]
     },
     "metadata": {},
     "output_type": "display_data"
    }
   ],
   "source": [
    "plt.figure(figsize=(10,10))\n",
    "plt.plot(train_losses, label='train loss')\n",
    "plt.plot(test_losses, label='test loss')\n",
    "plt.legend()\n",
    "plt.show()"
   ]
  },
  {
   "cell_type": "markdown",
   "id": "3e8de6f2-7444-4af6-a480-1e65e072fd8c",
   "metadata": {},
   "source": [
    "Avaliando o modelo"
   ]
  },
  {
   "cell_type": "code",
   "execution_count": 24,
   "id": "4e219958-b92e-4576-947b-e49751ee108c",
   "metadata": {},
   "outputs": [],
   "source": [
    "# Função para medir a acurácia multicategórica\n",
    "def get_accuracy_multiclass(pred_arr, original_arr):\n",
    "    # Verificar se os arrays têm o mesmo tamanho\n",
    "    if len(pred_arr) != len(original_arr):\n",
    "        return False\n",
    "    \n",
    "    # Converter para arrays numpy, caso necessário\n",
    "    pred_arr = pred_arr.numpy() if hasattr(pred_arr, 'numpy') else pred_arr\n",
    "    original_arr = original_arr.numpy() if hasattr(original_arr, 'numpy') else original_arr\n",
    "\n",
    "    # Obter as previsões finais, selecionando o índice com o maior valor em cada linha\n",
    "    final_pred = np.argmax(pred_arr, axis=1)\n",
    "    \n",
    "    # Comparar as previsões com os valores reais e contar as acertos\n",
    "    count = np.sum(final_pred == original_arr)\n",
    "    \n",
    "    # Retornar a acurácia\n",
    "    return count / len(final_pred)"
   ]
  },
  {
   "cell_type": "code",
   "execution_count": 25,
   "id": "29089eb9-965e-439c-8a1c-66ea6fe63837",
   "metadata": {},
   "outputs": [
    {
     "name": "stdout",
     "output_type": "stream",
     "text": [
      "Acurácia de treinamento: 99.0\n",
      "Acurácia de teste: 98.0\n"
     ]
    }
   ],
   "source": [
    "predictions_train = []\n",
    "predictions_test =  []\n",
    "with torch.no_grad():\n",
    "    predictions_train = model(X_train)\n",
    "    predictions_test = model(X_test)\n",
    "\n",
    "train_acc = get_accuracy_multiclass(predictions_train,y_train)\n",
    "test_acc  = get_accuracy_multiclass(predictions_test,y_test)\n",
    "\n",
    "print(f\"Acurácia de treinamento: {round(train_acc*100,3)}\")\n",
    "print(f\"Acurácia de teste: {round(test_acc*100,3)}\")"
   ]
  },
  {
   "cell_type": "markdown",
   "id": "b4da55e8-403c-4666-b2ad-3674a6502bae",
   "metadata": {},
   "source": [
    "---\n",
    "<br>"
   ]
  },
  {
   "cell_type": "markdown",
   "id": "2399b45c-b249-42b6-abc7-6f659d0c6c1c",
   "metadata": {},
   "source": [
    "### 2. Explicação de Conceitos"
   ]
  },
  {
   "cell_type": "markdown",
   "id": "7b7859e8-4f90-4040-b006-54db22c13d01",
   "metadata": {},
   "source": [
    "#### 2.2 Dropout e Batch Normalization"
   ]
  },
  {
   "cell_type": "markdown",
   "id": "a1066be2-dc2a-4b04-a91a-1448b27dbd5e",
   "metadata": {},
   "source": [
    "**Dropout** e **Batch Normalization** são técnicas amplamente utilizadas no treinamento de redes neurais, mas possuem propósitos e mecanismos distintos. Enquanto o Dropout foca em regularizar o modelo para evitar overfitting, a Batch Normalization busca acelerar o treinamento e estabilizar o aprendizado.\n",
    "\n",
    "\n",
    "\n",
    "#### **1. Propósito**\n",
    "- **Dropout**: \n",
    "  - É uma técnica de **regularização** usada para prevenir o **overfitting**, especialmente em redes neurais profundas.\n",
    "  - Ele funciona desativando aleatoriadamente uma fração dos neurônios durante o treinamento. Isso força o modelo a ser mais robusto, pois evita que os neurônios dependam excessivamente uns dos outros (coadaptação).\n",
    "\n",
    "- **Batch Normalization**: \n",
    "  - É uma técnica de **normalização** usada para estabilizar e acelerar o treinamento.\n",
    "  - Ele reduz o problema de desvio na distribuição das ativações internas (conhecido como covariate shift). Isso é feito ao normalizar os valores de ativação de cada camada com base na média e no desvio padrão do lote de entrada (batch).\n",
    "\n",
    "\n",
    "\n",
    "#### **2. Funcionamento**\n",
    "- **Dropout**:\n",
    "  - Durante o treinamento, cada neurônio tem uma probabilidade \\( p \\) (definida pelo usuário) de ser \"desligado\" (i.e., não contribuir para a saída da camada).\n",
    "  - No momento da inferência (teste), o Dropout é desativado, e os pesos das conexões são escalados proporcionalmente para refletir as contribuições médias dos neurônios durante o treinamento.\n",
    "\n",
    "  **Fórmula**:\n",
    "  - Neurônio ativado: \\( \\text{out}_i = \\text{activation}_i \\cdot M_i \\), onde \\( M_i \\sim \\text{Bernoulli}(p) \\)\n",
    "  - No teste: \\( \\text{out}_i = \\text{activation}_i \\cdot (1 - p) \\)\n",
    "\n",
    "- **Batch Normalization**:\n",
    "  - Para cada lote, calcula-se a média (\\( \\mu \\)) e o desvio padrão (\\( \\sigma \\)) das ativações em cada dimensão.\n",
    "  - Os valores das ativações são normalizados para ter média 0 e desvio padrão 1, e então são escalados e deslocados por parâmetros aprendíveis \\( \\gamma \\) e \\( \\beta \\).\n",
    "\n",
    "  **Fórmula**:\n",
    "  \\[\n",
    "  \\hat{x}_i = \\frac{x_i - \\mu}{\\sqrt{\\sigma^2 + \\epsilon}}, \\quad y_i = \\gamma \\hat{x}_i + \\beta\n",
    "  \\]\n",
    "  Onde:\n",
    "  - \\( x_i \\): ativação original.\n",
    "  - \\( \\mu \\), \\( \\sigma \\): média e desvio padrão do lote.\n",
    "  - \\( \\gamma \\): parâmetro de escala (aprendido durante o treinamento).\n",
    "  - \\( \\beta \\): parâmetro de deslocamento (também aprendido).\n",
    "  - \\( \\epsilon \\): termo para evitar divisão por zero.\n",
    "\n",
    "\n",
    "\n",
    "#### **3. Vantagens**\n",
    "- **Dropout**:\n",
    "  - Previne overfitting em redes profundas.\n",
    "  - Torna o modelo mais robusto ao criar uma espécie de ensemble de subredes.\n",
    "\n",
    "- **Batch Normalization**:\n",
    "  - Acelera o treinamento ao permitir que arquiteturas maiores sejam treinadas com taxas de aprendizado mais altas.\n",
    "  - Reduz a sensibilidade à inicialização dos pesos.\n",
    "  - Mitiga problemas de covariate shift nas ativações.\n",
    "\n",
    "\n",
    "\n",
    "#### **4. Quando usar?**\n",
    "- **Dropout**:\n",
    "  - É útil quando o modelo sofre de **overfitting**, geralmente em conjuntos de dados menores ou quando há muitas camadas.\n",
    "  - Usado principalmente após camadas densas ou convolucionais.\n",
    "\n",
    "- **Batch Normalization**:\n",
    "  - É mais indicado para **acelerar o treinamento** e melhorar a convergência em redes profundas.\n",
    "  - É frequentemente aplicado antes ou depois da ativação de uma camada.\n",
    "\n",
    "\n",
    "\n",
    "#### **5. Impacto no Modelo**\n",
    "- **Dropout**:\n",
    "  - Introduz **ruído** durante o treinamento ao desativar neurônios, forçando o modelo a aprender representações mais generalizáveis.\n",
    "  - Pode desacelerar o treinamento, mas melhora a generalização.\n",
    "\n",
    "- **Batch Normalization**:\n",
    "  - Reduz **instabilidades** no treinamento, permitindo que o modelo alcance melhores resultados com menos épocas.\n",
    "  - Introduz parâmetros adicionais (\\( \\gamma \\) e \\( \\beta \\)) que precisam ser ajustados.\n",
    "\n",
    "\n",
    "\n",
    "#### **Resumo Comparativo**\n",
    "\n",
    "| Característica        | Dropout                               | Batch Normalization                  |\n",
    "|-----------------------|---------------------------------------|---------------------------------------|\n",
    "| Propósito             | Regularização (evitar overfitting)   | Estabilização e aceleração do treino |\n",
    "| Método                | Desativa neurônios aleatoriamente    | Normaliza ativações dentro de cada lote |\n",
    "| Aplicação             | Após ativação                        | Antes ou depois da ativação          |\n",
    "| Efeito no Overfitting | Reduz overfitting                    | Indireto (não é o foco principal)    |\n",
    "| Impacto no Treinamento| Pode desacelerar                     | Geralmente acelera                   |\n",
    "\n",
    "\n",
    "\n",
    "Ambas as técnicas podem ser combinadas em redes neurais, com o Dropout focando na regularização e a Batch Normalization garantindo um aprendizado mais estável e rápido."
   ]
  },
  {
   "cell_type": "markdown",
   "id": "f9982935-bb06-47e3-9a79-70937be1da2a",
   "metadata": {},
   "source": [
    "---"
   ]
  },
  {
   "cell_type": "markdown",
   "id": "ee9a7685-1983-4502-bea2-780ce932f855",
   "metadata": {},
   "source": [
    "#### 2.3 Transfer Learning e Fine-Tuning."
   ]
  },
  {
   "cell_type": "markdown",
   "id": "f2530ef4-04e8-440b-9f10-d8aa6c0acc56",
   "metadata": {},
   "source": [
    "**Transfer Learning** e **Fine-Tuning** são técnicas relacionadas que utilizam redes neurais previamente treinadas para resolver problemas novos. Elas são amplamente usadas para economizar recursos computacionais e melhorar o desempenho em cenários onde o conjunto de dados disponível é limitado.\n",
    "\n",
    "\n",
    "\n",
    "#### **1. Propósito**\n",
    "- **Transfer Learning**:\n",
    "  - Aproveitar o aprendizado de um modelo pré-treinado em um grande conjunto de dados para resolver um problema em um conjunto de dados menor e específico.\n",
    "  - Útil para cenários em que treinar uma rede do zero é inviável devido à falta de dados ou poder computacional.\n",
    "\n",
    "- **Fine-Tuning**:\n",
    "  - Refinar as camadas de um modelo pré-treinado para adaptá-lo a um problema específico.\n",
    "  - Normalmente usado após o Transfer Learning, ajustando partes ou toda a rede para o novo conjunto de dados.\n",
    "\n",
    "\n",
    "\n",
    "#### **2. Funcionamento**\n",
    "- **Transfer Learning**:\n",
    "  - Utiliza os pesos de um modelo pré-treinado (geralmente em um dataset grande, como ImageNet) e aplica as camadas superiores (features genéricas) em um novo problema.\n",
    "  - Apenas a camada de saída (classificador) é treinada no novo conjunto de dados, enquanto as camadas inferiores permanecem congeladas.\n",
    "\n",
    "  **Exemplo**:\n",
    "  - Modelo pré-treinado: ResNet50 treinado no ImageNet.\n",
    "  - Nova tarefa: Classificar tipos de folhas.\n",
    "  - Estratégia: Congelar as camadas convolucionais e treinar apenas a camada de saída para classificar as folhas.\n",
    "\n",
    "- **Fine-Tuning**:\n",
    "  - Inicia-se com um modelo pré-treinado, mas permite o ajuste dos pesos de algumas (ou todas) as camadas, além de treinar a nova camada de saída.\n",
    "  - Focado em ajustar os pesos das camadas mais profundas para se alinhar ao novo conjunto de dados.\n",
    "\n",
    "  **Exemplo**:\n",
    "  - Modelo inicial: ResNet50.\n",
    "  - Nova tarefa: Diagnóstico de câncer em imagens médicas.\n",
    "  - Estratégia: Ajustar pesos das últimas camadas convolucionais e treinar o classificador.\n",
    "\n",
    "\n",
    "\n",
    "#### **3. Vantagens**\n",
    "- **Transfer Learning**:\n",
    "  - Reduz significativamente o tempo de treinamento.\n",
    "  - Necessita de menos dados para alcançar bom desempenho.\n",
    "  - Funciona bem quando as características entre o dataset original e o novo são similares.\n",
    "\n",
    "- **Fine-Tuning**:\n",
    "  - Melhora a precisão em tarefas específicas.\n",
    "  - Adapta o modelo pré-treinado para capturar características únicas do novo conjunto de dados.\n",
    "  - Mais flexível que Transfer Learning, permitindo ajustar tanto as features gerais quanto o classificador.\n",
    "\n",
    "\n",
    "\n",
    "#### **4. Quando usar?**\n",
    "- **Transfer Learning**:\n",
    "  - Quando os dados disponíveis são escassos e similares ao conjunto de dados no qual o modelo original foi treinado.\n",
    "  - Quando o objetivo é economizar recursos e acelerar o treinamento.\n",
    "\n",
    "- **Fine-Tuning**:\n",
    "  - Quando o novo conjunto de dados é mais específico e tem características diferentes do dataset original.\n",
    "  - Quando há necessidade de máxima performance no novo problema e recursos suficientes para ajustar o modelo.\n",
    "\n",
    "\n",
    "\n",
    "#### **5. Impacto no Modelo**\n",
    "- **Transfer Learning**:\n",
    "  - Utiliza features genéricas aprendidas em grandes datasets.\n",
    "  - Reduz o risco de overfitting ao congelar camadas iniciais.\n",
    "  - Mais rápido de treinar, já que apenas a camada de saída é ajustada.\n",
    "\n",
    "- **Fine-Tuning**:\n",
    "  - Permite aprender características mais específicas do problema atual.\n",
    "  - Pode ser mais suscetível ao overfitting, especialmente com conjuntos de dados pequenos.\n",
    "  - Exige mais poder computacional, pois algumas ou todas as camadas são ajustadas.\n",
    "\n",
    "\n",
    "\n",
    "#### **Resumo Comparativo**\n",
    "\n",
    "| Característica        | Transfer Learning                    | Fine-Tuning                          |\n",
    "|-----------------------|---------------------------------------|---------------------------------------|\n",
    "| Propósito             | Reutilizar features genéricas        | Adaptar o modelo ao novo problema    |\n",
    "| Camadas treinadas     | Apenas a camada de saída             | Algumas ou todas as camadas          |\n",
    "| Tempo de treinamento  | Rápido                               | Mais lento                           |\n",
    "| Necessidade de dados  | Menor                                | Moderada a alta                      |\n",
    "| Risco de overfitting  | Baixo                                | Médio a alto (se mal ajustado)       |\n",
    "\n",
    "\n",
    "\n",
    "Ambas as técnicas são frequentemente usadas em conjunto: Transfer Learning para iniciar com um modelo genérico e Fine-Tuning para otimizar o desempenho para tarefas específicas.\n"
   ]
  },
  {
   "cell_type": "markdown",
   "id": "1d857f2f-2442-43e2-aa6c-ba78d4fe45ee",
   "metadata": {},
   "source": [
    "---\n",
    "<br>"
   ]
  },
  {
   "cell_type": "markdown",
   "id": "6b05645f-d6d9-4e9f-b820-a83ac50913cc",
   "metadata": {},
   "source": [
    "### 3 Ajuste de Hiperparâmetros"
   ]
  },
  {
   "cell_type": "markdown",
   "id": "3a8ea877-3a6f-4936-83c4-566d330d81cd",
   "metadata": {},
   "source": [
    "Ao utilizar um modelo pré-treinado, é essencial seguir etapas estratégicas para evitar overfitting e reduzir o tempo de treinamento enquanto mantém o desempenho ideal. Abaixo estão os passos recomendados:\n",
    "\n",
    "#### **1. Evitar Overfitting**\n",
    "\n",
    "##### **1.1 Congelar Camadas Iniciais**\n",
    "- As camadas iniciais capturam **features genéricas** (como bordas e texturas em imagens), úteis para diferentes problemas.\n",
    "- Congelar essas camadas evita ajustes desnecessários, reduzindo o risco de overfitting.\n",
    "\n",
    "```python\n",
    "for param in model.features.parameters():\n",
    "    param.requires_grad = False\n",
    "```\n",
    "##### **1.2 Adicionar Regularização**\n",
    "\n",
    "- Dropout: Desativa aleatoriamente neurônios durante o treinamento para melhorar a generalização.\n",
    "- L2 Regularization (Weight Decay): Penaliza pesos muito grandes para evitar overfitting.\n",
    "\n",
    "```python\n",
    "self.dropout = nn.Dropout(p=0.5)\n",
    "optimizer = torch.optim.Adam(model.parameters(), lr=0.001, weight_decay=1e-5)\n",
    "```\n",
    "\n",
    "##### **1.3 Usar Early Stopping**\n",
    "\n",
    "- Interrompe o treinamento quando a performance no conjunto de validação piora, prevenindo o overfitting.\n",
    "```python\n",
    "if val_loss > previous_val_loss:\n",
    "    patience_counter += 1\n",
    "    if patience_counter >= patience:\n",
    "        print(\"Early stopping\")\n",
    "        break\n",
    "```\n",
    "\n",
    "#### **2. Reduzir o Tempo de Treinamento Mantendo o Desempenho**\n",
    "\n",
    "##### **2.1 Usar um Otimizador Avançado**\n",
    "- Otimizadores como Adam convergem mais rápido em comparação ao SGD tradicional.\n",
    "\n",
    "```python\n",
    "optimizer = torch.optim.Adam(model.parameters())\n",
    "```\n",
    "##### **2.2 Treinar Apenas Camadas Específicas**\n",
    "\n",
    "- Ajustar apenas as últimas camadas (mais específicas) reduz o custo computacional.\n",
    "\n",
    "```python\n",
    "for param in model.features.parameters():\n",
    "    param.requires_grad = False\n",
    "```\n",
    "\n",
    "##### **2.3 Utilizar um Tamanho de Lote Adequado**\n",
    "\n",
    "- Ajuste o batch size para balancear velocidade e uso de memória.\n",
    "```python\n",
    "dataloader = DataLoader(dataset, batch_size=64, shuffle=True)\n",
    "```\n",
    "\n",
    "##### **2.4 Ajustar a Taxa de Aprendizado**\n",
    "\n",
    "- Use Learning Rate Schedulers para adaptar a taxa de aprendizado dinamicamente.\n",
    "```python\n",
    "scheduler = torch.optim.lr_scheduler.StepLR(optimizer, step_size=10, gamma=0.1)\n",
    "```\n",
    "\n",
    "##### **2.5 Aproveitar Técnicas de Mixed Precision Training**\n",
    "\n",
    "- Reduz o tempo de treinamento utilizando números de ponto flutuante de menor precisão.\n",
    "```python\n",
    "scaler = torch.cuda.amp.GradScaler()\n",
    "with torch.cuda.amp.autocast():\n",
    "    output = model(input)\n",
    "    loss = criterion(output, target)\n",
    "```"
   ]
  }
 ],
 "metadata": {
  "kernelspec": {
   "display_name": "Python 3 (ipykernel)",
   "language": "python",
   "name": "python3"
  },
  "language_info": {
   "codemirror_mode": {
    "name": "ipython",
    "version": 3
   },
   "file_extension": ".py",
   "mimetype": "text/x-python",
   "name": "python",
   "nbconvert_exporter": "python",
   "pygments_lexer": "ipython3",
   "version": "3.12.3"
  }
 },
 "nbformat": 4,
 "nbformat_minor": 5
}
